{
 "cells": [
  {
   "cell_type": "markdown",
   "id": "9845c7f1-8a3f-4c12-a49f-3dac72c4c096",
   "metadata": {},
   "source": [
    "# Topological text analysis - similarity of movie descriptions"
   ]
  },
  {
   "cell_type": "markdown",
   "id": "f7e0bf40-9eef-4934-bb3f-e28e59f10af9",
   "metadata": {},
   "source": [
    "In this notebook we will present how topological methods can be used to analyse text."
   ]
  },
  {
   "cell_type": "markdown",
   "id": "8a3cdd5b-903c-485b-bdb1-69c7fcc3acd2",
   "metadata": {},
   "source": [
    "The main idea is to decompose the given text into blocks, creating a corpus, after which we would use the TfIdf method to obtain numerical values i.e. points from blocks of text. These points are later subject to the topological methods: we use Vietrois-Rips filtration to create persistence diagrams of given movie description. Subsequently, we use the Bottleneck distance of persistence diagrams to establish the level of similarity between descriptions."
   ]
  },
  {
   "cell_type": "markdown",
   "id": "97827f3d-a45c-4f48-9f00-b464c0852afd",
   "metadata": {},
   "source": [
    "We start by uploading the necessary python packages:"
   ]
  },
  {
   "cell_type": "code",
   "execution_count": 5,
   "id": "4c3838d0-50ed-406b-a7a2-d3cae35f3a9d",
   "metadata": {},
   "outputs": [],
   "source": [
    "import numpy as np\n",
    "import pandas as pd\n",
    "import os\n",
    "import sklearn\n",
    "from sklearn.feature_extraction.text import TfidfVectorizer\n",
    "from sklearn.decomposition import PCA\n",
    "from sklearn import metrics\n",
    "import math"
   ]
  },
  {
   "cell_type": "markdown",
   "id": "bc1d72ed-d554-4c83-b797-33b9dc24a03f",
   "metadata": {},
   "source": [
    "For TDA, we use the giotto library:"
   ]
  },
  {
   "cell_type": "code",
   "execution_count": 8,
   "id": "6f436ffd-d5ff-4437-89f7-be79ec125283",
   "metadata": {},
   "outputs": [],
   "source": [
    "from gtda.homology import VietorisRipsPersistence\n",
    "from gtda.diagrams import PairwiseDistance"
   ]
  },
  {
   "cell_type": "markdown",
   "id": "74f6d564-4ff5-4d39-a66d-56a04b473e49",
   "metadata": {},
   "source": [
    "Now, we upload the necessary packages for text processing:"
   ]
  },
  {
   "cell_type": "code",
   "execution_count": 11,
   "id": "8b0c8e52-941a-495f-bedf-ca954e54d356",
   "metadata": {},
   "outputs": [],
   "source": [
    "import nltk\n",
    "from nltk import pos_tag\n",
    "from nltk.tokenize import word_tokenize\n",
    "from nltk.corpus import stopwords\n",
    "from nltk.stem.wordnet import WordNetLemmatizer\n",
    "\n",
    "from collections import defaultdict\n",
    "import re\n",
    "from langdetect import detect"
   ]
  },
  {
   "cell_type": "markdown",
   "id": "f956277c-2b61-4d3c-a794-5ee803ba42ec",
   "metadata": {},
   "source": [
    "We are ready to begin.  \n",
    "The movie of the most interest to us would be the \"Harry Potter and the Philospher's Stone\".  \n",
    "Given a file of multiple movie descriptions, we would like to see what would be the movies most similar to the given one, based on their descriptions, using the topological methods."
   ]
  },
  {
   "cell_type": "code",
   "execution_count": 27,
   "id": "ad30b914-32f1-4789-93f4-f20422550aa8",
   "metadata": {},
   "outputs": [],
   "source": [
    "main_description = ''\n",
    "with open(\"Harry Potter description.txt\",\"r\") as f:\n",
    "    main_description = f.read()"
   ]
  },
  {
   "cell_type": "code",
   "execution_count": 29,
   "id": "cf35e1f1-e492-4dee-b83d-66bfbb3ca28f",
   "metadata": {},
   "outputs": [
    {
     "name": "stdout",
     "output_type": "stream",
     "text": [
      "Ten years later, just before Harry's eleventh birthday, owls begin delivering letters addressed to him. When the abusive Dursleys adamantly refuse to allow Harry to open any and flee to an island hut, Hagrid arrives to personally deliver Harry's letter of acceptance to Hogwarts. Hagrid also reveals that Harry's late parents, James and Lily, were killed by a dark wizard named Lord Voldemort. The killing curse that Voldemort had cast towards Harry rebounded, destroying Voldemort's body and giving Harry the lightning-bolt scar on his forehead. Hagrid then takes Harry to Diagon Alley for school supplies and gives him a pet snowy owl whom he names Hedwig. Harry buys a wand that is connected to Voldemort's own wand. At King's Cross, Harry boards the Hogwarts Express train, and meets fellow first-years Ron Weasley and Hermione Granger during the journey. Arriving at Hogwarts, Harry also meets Draco Malfoy, who is from a wealthy wizard family; the two immediately form a rivalry. The students assemble in the Great Hall where the Sorting Hat sorts the first-years into four respective houses: Gryffindor, Hufflepuff, Ravenclaw, and Slytherin. Harry is placed into Gryffindor alongside Ron and Hermione, while Draco is placed into Slytherin, a house noted for dark wizards.\n"
     ]
    }
   ],
   "source": [
    "print(main_description)"
   ]
  },
  {
   "cell_type": "markdown",
   "id": "bd37d13f-9e6d-4eea-b121-65087ff9bb14",
   "metadata": {},
   "source": [
    "The movie descriptions are stored in the file \"MovieData.csv\". We will now read this data, but we will only consider the lengthy descriptions of movies, since the use of topological methods would make sense. Additionally, we will only consider those descriptions that are written in english."
   ]
  },
  {
   "cell_type": "code",
   "execution_count": 19,
   "id": "bb40fb27-bc2f-4f7c-8ff7-36f794c66731",
   "metadata": {},
   "outputs": [],
   "source": [
    "def read_data(limit=1000):\n",
    "    movies = pd.read_csv('MovieData.csv')\n",
    "    movies['desc'] = movies['desc'].fillna(' ') # fill the NaN slots with a blank line\n",
    "    movies = movies[movies['desc'].apply(len) > limit] # we only consider the descriptions longer than *limit* characters\n",
    "    movies = movies.drop_duplicates(subset = ['title']) # drop descriptions of movies that apear multiple times\n",
    "    movies['lang'] = movies['desc'].apply(detect) # detect the language in which the descriptions were made\n",
    "    movies = movies[movies['lang'] == 'en'] # select only the descriptions written in English\n",
    "    movies = movies.drop('lang', axis=1) # delete the 'lang' column, since we won't be using it in the future\n",
    "\n",
    "    return movies"
   ]
  },
  {
   "cell_type": "code",
   "execution_count": 21,
   "id": "07b01d9b-b6b2-47b5-9845-2163bc03434e",
   "metadata": {},
   "outputs": [],
   "source": [
    "movies = read_data()"
   ]
  },
  {
   "cell_type": "markdown",
   "id": "be67b996-a8a9-4411-b0d3-39b1f63cc573",
   "metadata": {},
   "source": [
    "We can see some samples of given movie descriptions:"
   ]
  },
  {
   "cell_type": "code",
   "execution_count": 24,
   "id": "287b24df-2801-41cf-995a-564c0544f550",
   "metadata": {},
   "outputs": [
    {
     "name": "stdout",
     "output_type": "stream",
     "text": [
      "                 title                                               desc\n",
      "0      Sorrowful Jones  Sorrowful Jones is a New York bookie who keeps...\n",
      "1   South of St. Louis  During the Civil War, Kip Davis (Joel McCrea),...\n",
      "4      Strange Bargain  Because the firm is bankrupt, bookkeeper Sam W...\n",
      "6    Streets of Laredo  A trio of outlaws, Jim Dawkins (Holden), Loren...\n",
      "11          Task Force  As a 1917 graduate of the Naval Academy, Naval...\n"
     ]
    }
   ],
   "source": [
    "print(movies.head())"
   ]
  },
  {
   "cell_type": "markdown",
   "id": "982f040d-72f3-4eff-b25d-8c23388c7d12",
   "metadata": {},
   "source": [
    "We will now process all of this data:"
   ]
  },
  {
   "cell_type": "code",
   "execution_count": 34,
   "id": "f627e628-3209-4503-be48-cc7fa5219a3d",
   "metadata": {},
   "outputs": [
    {
     "name": "stderr",
     "output_type": "stream",
     "text": [
      "[nltk_data] Downloading package wordnet to\n",
      "[nltk_data]     C:\\Users\\Korisnik\\AppData\\Roaming\\nltk_data...\n",
      "[nltk_data]   Package wordnet is already up-to-date!\n",
      "[nltk_data] Downloading package stopwords to\n",
      "[nltk_data]     C:\\Users\\Korisnik\\AppData\\Roaming\\nltk_data...\n",
      "[nltk_data]   Package stopwords is already up-to-date!\n",
      "[nltk_data] Downloading package punkt to\n",
      "[nltk_data]     C:\\Users\\Korisnik\\AppData\\Roaming\\nltk_data...\n",
      "[nltk_data]   Package punkt is already up-to-date!\n",
      "[nltk_data] Downloading package averaged_perceptron_tagger to\n",
      "[nltk_data]     C:\\Users\\Korisnik\\AppData\\Roaming\\nltk_data...\n",
      "[nltk_data]   Package averaged_perceptron_tagger is already up-to-\n",
      "[nltk_data]       date!\n"
     ]
    },
    {
     "data": {
      "text/plain": [
       "True"
      ]
     },
     "execution_count": 34,
     "metadata": {},
     "output_type": "execute_result"
    }
   ],
   "source": [
    "nltk.download('wordnet')\n",
    "nltk.download('stopwords')\n",
    "nltk.download('punkt')\n",
    "nltk.download('averaged_perceptron_tagger')"
   ]
  },
  {
   "cell_type": "code",
   "execution_count": 36,
   "id": "3115391d-88c3-48d2-9c68-adfb7d541d72",
   "metadata": {},
   "outputs": [],
   "source": [
    "stops = stopwords.words('english')\n",
    "lemma = WordNetLemmatizer()"
   ]
  },
  {
   "cell_type": "code",
   "execution_count": 42,
   "id": "9c672618-92fb-430b-90ac-dc2a63072c1e",
   "metadata": {},
   "outputs": [],
   "source": [
    "tag_map = defaultdict(lambda: 'n')\n",
    "tag_map['J'] = 'a'\n",
    "tag_map['V'] = 'v'\n",
    "tag_map['R'] = 'r'\n",
    "\n",
    "def get_wordnet_tags(tokens):\n",
    "    tagged_tokens = pos_tag(tokens)\n",
    "    return [(token[0], tag_map[token[1][0]]) for token in tagged_tokens]\n",
    "\n",
    "def process_text(text):\n",
    "    text = text.lower()\n",
    "    text = re.sub(\"[^a-z ]\", \" \", text)\n",
    "    tokens = word_tokenize(text)\n",
    "    tokens = get_wordnet_tags(tokens)\n",
    "    tokens = [lemma.lemmatize(word=token[0], pos=token[1]) for token in tokens]\n",
    "    tokens = [word for word in tokens if word not in stops and len(word) > 2]\n",
    "    return ' '.join(tokens)\n",
    "\n",
    "def process_data( movies ):\n",
    "    movies['processed desc'] = movies['desc'].apply(process_text)\n",
    "    return movies"
   ]
  },
  {
   "cell_type": "code",
   "execution_count": 40,
   "id": "d8e1490d-eb2e-4ce9-9ff8-4972751c4624",
   "metadata": {},
   "outputs": [
    {
     "name": "stdout",
     "output_type": "stream",
     "text": [
      "ten year later harry eleventh birthday owls begin deliver letter address abusive dursleys adamantly refuse allow harry open flee island hut hagrid arrive personally deliver harry letter acceptance hogwarts hagrid also reveal harry late parent james lily kill dark wizard name lord voldemort kill curse voldemort cast towards harry rebound destroy voldemort body give harry lightning bolt scar forehead hagrid take harry diagon alley school supply give pet snowy owl name hedwig harry buy wand connect voldemort wand king cross harry board hogwarts express train meet fellow first year ron weasley hermione granger journey arrive hogwarts harry also meet draco malfoy wealthy wizard family two immediately form rivalry student assemble great hall sort hat sort first year four respective house gryffindor hufflepuff ravenclaw slytherin harry place gryffindor alongside ron hermione draco place slytherin house note dark wizard\n"
     ]
    }
   ],
   "source": [
    "processed_main_description = process_text(main_description)\n",
    "\n",
    "print(processed_main_description)"
   ]
  },
  {
   "cell_type": "code",
   "execution_count": 44,
   "id": "1ba81229-d52b-47e8-8503-49654d39905d",
   "metadata": {},
   "outputs": [],
   "source": [
    "movies = process_data(movies)"
   ]
  },
  {
   "cell_type": "markdown",
   "id": "f0ff32b0-0df4-46b7-b988-58b673450f9a",
   "metadata": {},
   "source": [
    "Since we have finished the processing of the text we are ready to use the TDA tools:  \n",
    "As has been said in the beginning, each description will be decomposed into several blocks of text. Upon applying the TfIdf method, these blocks will be transformed into vectors i.e. points. These points will be subject to the Vietoris-Rips filtration based on which we will otain the persistence classes of every description. Based on the bottleneck distance of persistence diagrams, we will find the most similar movies to the one of \"Harry Potter and the Philosopher's Stone\"."
   ]
  },
  {
   "cell_type": "code",
   "execution_count": 48,
   "id": "e2abde87-aca3-41e0-8d4e-b0b8f0c3fe54",
   "metadata": {},
   "outputs": [],
   "source": [
    "def block_decomposition(text, number_of_blocks=5):\n",
    "    text_len = len(text)\n",
    "    block_len = text_len//number_of_blocks\n",
    "    blocks = [text[i:i+block_len] for i in range(0, text_len, block_len)]\n",
    "    if len(blocks)%2 == 1:\n",
    "        blocks.append('')\n",
    "    return blocks\n",
    "\n",
    "def get_points(text, number_of_blocks=5):\n",
    "    blocks = block_decomposition(text=text, number_of_blocks=number_of_blocks)\n",
    "    vectorizer = TfidfVectorizer()\n",
    "    prepoints = vectorizer.fit_transform(blocks)\n",
    "    pca = PCA(n_components=2)\n",
    "    points = pca.fit_transform(prepoints.toarray())\n",
    "    return points"
   ]
  },
  {
   "cell_type": "code",
   "execution_count": 50,
   "id": "1955568f-c8dd-4fd3-ad82-f566224a1eec",
   "metadata": {},
   "outputs": [],
   "source": [
    "def get_diagram(points, edge_length=0.5):\n",
    "    vrp = VietorisRipsPersistence(metric='euclidean', homology_dimensions=[0, 1], max_edge_length=edge_length)\n",
    "    return vrp.fit_transform(points[None,:,:])"
   ]
  },
  {
   "cell_type": "code",
   "execution_count": 52,
   "id": "d04c3de8-2c43-475e-a9ac-f3c71b0dcec8",
   "metadata": {},
   "outputs": [],
   "source": [
    "def bottlenck_distance(diagram1, diagram2):\n",
    "    bottleneck_dist = PairwiseDistance(metric='bottleneck')\n",
    "    bottleneck_dist.fit(diagram1)\n",
    "    d = bottleneck_dist.transform(diagram2)\n",
    "    return d[0][0]"
   ]
  },
  {
   "cell_type": "markdown",
   "id": "a3467e20-72b6-46da-bdf0-83c70636d1f2",
   "metadata": {},
   "source": [
    "We are ready to proceed:"
   ]
  },
  {
   "cell_type": "code",
   "execution_count": 55,
   "id": "94df66c3-65fc-45a7-b6a0-dae1ee3d923f",
   "metadata": {},
   "outputs": [],
   "source": [
    "main_points = get_points(processed_main_description)\n",
    "main_diagram = get_diagram(main_points)\n",
    "\n",
    "distances = []\n",
    "\n",
    "for movie_description in movies['processed desc']:\n",
    "    points = get_points(movie_description)\n",
    "    diagram = get_diagram(points)\n",
    "    distances.append(bottlenck_distance(main_diagram, diagram))"
   ]
  },
  {
   "cell_type": "markdown",
   "id": "bdfbd190-cc06-4c48-ba77-09285a3a6e3e",
   "metadata": {},
   "source": [
    "After this process is finished we can see what does the topology of given description says which movies are most similar to the given one:"
   ]
  },
  {
   "cell_type": "code",
   "execution_count": 68,
   "id": "d7309594-05a0-460a-a54e-53844ec70170",
   "metadata": {},
   "outputs": [
    {
     "name": "stdout",
     "output_type": "stream",
     "text": [
      "Top 10 similar movies are:\n",
      "1: Unrest : distance = 0.00593633749485889\n",
      "The film revolves around a cadaver who seems to bring misfortune on those who come in contact with it.\n",
      "Although there is very little corporeal manifestation of the ghosts, people seem to die when they enrage the spirit which is linked with a special cadaverâ€”by disrespecting it or otherwise. The story takes place mostly inside a hospital, where a young medical student, Alison Blanchard, comes to learn anatomy. By observing the cadaver she was assigned, she discovers that the body had self-inflicted wounds and also had a child. She soon discovers that there is something wrong with the cadaver, which they have nicknamed \"Norma.\" Mysterious deaths occur in the hospital, which include the fiancee of one of Allison's team members and several hospital employees.\n",
      "It is revealed that the cadaver is a person named Alita Covas, who once led an archaeological expedition on an Aztec sacrificial site. There she uncovered 50,000 bodies which were offered to Tlazolteotl, the Aztec god of fertility and prostitution. Afterwards, she herself became a prostitute, and started showing symptoms of mental imbalance. Later in her life, she committed murders and was subsequently put in a mental asylum where she diedâ€”presumably by her own hand.\n",
      "Once Alison learns of the true nature of the cadaver, she decides the corpse must return to Brazil to satisfy the Aztec god. After a series of gruesome events, Alison and her classmate/love interest take Alita's now dismembered corpse and cremate her in the hospital. In the end, Alison heads to Brazil to spread the ashes in an attempt to put the spirit at rest; however, it is suggested in the final scene that the spirit remains in the hospital.\n",
      "==================================\n",
      "2: Nice Dreams : distance = 0.0060248254503676435\n",
      "Cheech and Chong have a new business driving an ice cream truck selling \"Happy Herb's Nice Dreams.\" However, it is not ice cream they sell, but it is marijuana, stolen from their friend Weird Jimmy whose plantation is under their beach house camouflaged as a pool. The two eventually make a fortune. They blissfully plan on becoming \"Sun Kings in Paradise\" which involves buying an island, guitars, and enjoying lots of women.\n",
      "The police are on Cheech and Chong's tails from the start, as they trick the stoners into selling them some of their \"ice cream.\" Sgt. Stedanko (Keach, reprising his role from Up in Smoke), now himself a stoner, tests the marijuana and slowly turns into a lizard (a side effect). Just as the police storm their house, Cheech and Chong pack up the marijuana in their truck and drive off, leaving Weird Jimmy to be arrested. While Sgt. Stedanko continues smoking their product, becoming stranger and more lizard-like, his two deputies, Det. Drooler and his inept partner Noodles, tail the stoners.\n",
      "Cheech and Chong dine at a Chinese restaurant to celebrate their wealth. There, they are accosted by an annoying record agent who bothers Chong (mistaking him for Jerry Garcia), followed by Cheech's ex-girlfriend Donna (Guerrero, reprising her role from Cheech & Chong's Next Movie) and a cocaine-snorting mental patient, Howie \"Hamburger Dude\" (Paul Reubens). The four of them snort cocaine under the table, prompting Chong to sign away all their money to Howie for a useless check, which they are unable to cash due to none of them having an ID.\n",
      "Cheech takes a drunk Donna out to her truck to have sex, but she passes out. A pair of incompetent California highway patrolmen show up, almost busting Cheech when Chong abruptly shows up in their ice cream truck. However, not wanting to deal with the impending long procedure of the arrest, the cops let Cheech and Chong go.\n",
      "The two head back to Donna's apartment. While attempting a threesome, Chong leaves to get ice. At this point, Donna's crazed racist biker husband Animal shows up, having broken out of prison. Cheech tries to escape out the window and ends up climbing the hotel naked. Chong then returns to the room and hides under the bed. Eventually, Animal has sex with Donna and they fall asleep. Cheech gets back into the hotel, returns to the room, and retrieves some clothes to wear.\n",
      "Cheech then realizes Chong has signed away all their money to Howie. After getting a lift from Drooler and Noodles (disguised as women), the stoners find and break into the address on the check: a mental institution. They spend the night and in the morning they find Howie among the inmates. Cheech tries to grab Howie to get their money, but the doctors believe Cheech to be another patient and lock him in a straitjacket and chained up in a padded room. Chong finds a doctor (Timothy Leary) to help, and Cheech and Chong are offered \"the key to the universe\" (LSD).\n",
      "Chong simply passes out but Cheech endures a bizarre trip that finally ends the next morning when the head nurse awakens them. She has realized what has happened and apologizes to them, returns their money and sets them free; Howie also seemingly apologizes, but not long after he says he is not sorry and laughs. At this point, Stedanko's cops show up and arrest the head nurse and Howie instead. By now, Stedanko has become even more lizard like, complete with a tail.\n",
      "With Weird Jimmy's marijuana plantation busted, Cheech and Chong resort to becoming male strippers at Club Paradise where they are billed as \"The Sun Kings.\"\n",
      "==================================\n",
      "3: The October Man : distance = 0.009627817276850692\n",
      "When a bus crashes due to faulty steering, passenger Jim Ackland (John Mills) sustains a serious brain injury and a young girl under his care is killed. Guilt ridden, he attempts suicide twice during his recovery.\n",
      "He starts a new job as an industrial chemist and gets a room in a hotel. When he reluctantly accepts an invitation for a night out, he meets Jenny Carden (Joan Greenwood), the sister of his co-worker, Harry (Patrick Holt). They begin seeing each other quite regularly. Things reach the point where he confesses he wants to marry her, but he tells her he wants to be sure he has fully recovered first.\n",
      "Molly Newman (Kay Walsh), one of the other hotel residents, asks to borrow Â£30 from him, a rather substantial sum. As he doesn't have that much on him, Jim good-naturedly writes her a cheque. She is found strangled the next night. Wilcox (Jack Melford), a married businessman Molly had been seeing, has an alibi. Jim admits to have been walking in the vicinity of the murder site; that plus the recovered cheque from the crime scene and his head injury make him the prime suspect. Police Inspector Godby (Frederick Piper) suspects he was another of Molly's boyfriends and that, after falling in love with Jenny, he wanted to rid himself of a possible blackmailer.\n",
      "When Jim learns that Mr. Peachy, the person who lived in the room directly below Molly's, had told the police that Jim was in her room every night, Jim confronts him in his room. Peachy brazenly admits killing Molly, confident that there is no evidence against him. Peachy had regularly given her money; when Jim made her a loan, it had given rise to an insane jealousy, with fatal results.\n",
      "Jim goes to the police, but they do not believe him. When they come to take him into custody, Jim flees. He follows Peachy to Paddington Station, then discovers from a tag on Peachy's luggage that he intends to flee the country by plane. He phones Godby with the flight information, but when that appears to have no effect, contemplates suicide again. Fortunately, a letter Molly had posted to Wilcox just before her death incriminates Peachy who's arrested. Jenny finds Jim and gives him the good news.\n",
      "==================================\n",
      "4: Mad Monster Party : distance = 0.010489330379641615\n",
      "Baron Boris von Frankenstein (voiced by Boris Karloff) achieves his ultimate ambition, the secret of total destruction. Having perfected and tested the formula, he sends out messenger bats to summon all monsters to the Isle of Evil in the Caribbean Sea. The Baron intends to inform them of his discovery and also to reveal his imminent retirement as head of the \"Worldwide Organization of Monsters\". Besides Frankenstein's Monster (sometimes referred to as \"Fang\") and the Monster's more intelligent mate (voiced by Phyllis Diller) who live in the island castle with Boris, the invites also include Count Dracula, the Mummy, The Hunchback of Notre Dame, the Werewolf, The Invisible Man, Dr. Jekyll and Mr. Hyde, and the Creature from the Black Lagoon (referred to as just \"The Creature\").\n",
      "The Baron's beautiful assistant Francesca (voiced by Gale Garnett) enters the lab to confirm that all invitations have been delivered and inquires about one of the addressees named Felix Flanken (voiced by Allen Swift impersonating James Stewart). Frankenstein explains that Flanken is his nephew and successor in the monster business. This displeases Francesca, who covets the role for herself. Francesca even asks why there was not an invitation for \"It\". Boris replies that \"It\" was not invited since \"It\" can be a crushing bore, explaining that \"It\" even crushed the island's wild boars in his bare hands the last time \"It\" was invited.\n",
      "Frankenstein has his zombie butler, Yetch (Swift impersonating Peter Lorre), Chef Mafia Machiavelli, and the zombie bellhops and servants make preparations for the upcoming party while having some zombies patrol the island to make sure that \"It\" does not show up uninvited. The monsters begin to arrive on the freighter that Felix is also traveling on.\n",
      "However, when Felix proves to be an incompetent, asthmatic (and unsuitably kind-hearted) human, the monsters plot to eliminate him and gain control of the secret formula. Over time, Francesca develops feelings for Felix after he unknowingly saves her multiple times. As Dracula, Frankenstein's Monster, and the Monster's Mate descend upon Francesca, she sends out a letter (via messenger bat) to an unknown recipient. When the monsters corner Felix upon capturing Francesca, they are frightened at the arrival of \"It\" (revealed to be a giant gorilla who is a take-off of King Kong) who proceeds to go on a rampage since he was not invited. \"It\" snatches up the monsters and Francesca (on whom \"It\" develops a crush).\n",
      "Felix rushes off to tell his Uncle Boris what happened, and is instructed to head to the boat. Boris leads the zombies in rescuing Francesca from \"It\" using biplanes. Boris convinces \"It\" to let Francesca go and to take him instead. \"It\" complies, releasing Francesca. Felix and Francesca manage to get off the island as Boris and the remainder of the monsters remain in the clutches of \"It\". Displeased that the monsters tried to steal the secret of total destruction for themselves and attempted to kill Felix, as well as having to put up with \"It\", Boris sacrifices his life by dropping the vial containing the formula, destroying the Isle of Evil and everything on it.\n",
      "The destruction is witnessed offshore by Felix and Francesca. Francesca tearfully admits to Felix that she is not human, but is in fact a robot creation of Boris von Frankenstein. Felix answers that \"none of us are perfect\" where he then mechanically repeats the words \"are perfect\", indicating that he has also been a robot creation of his uncle all this time.\n",
      "==================================\n",
      "5: Lifeforce : distance = 0.01092823169346957\n",
      "The crew of the space shuttle Churchill finds a 150-mile-long spaceship hidden in the coma of Halley's Comet. Inside, the crew discovers hundreds of dead bat-like creatures and three naked humanoid bodies (two male and one female) in suspended animation within glass containers. The crew recovers the three aliens and begins the return trip to Earth. However, during the return journey, mission control loses contact with Churchill and a rescue mission is launched to investigate.\n",
      "The rescuers discover that Churchill has been severely damaged by fire, yet the three containers bearing the aliens remain intact. The aliens are taken to the European Space Research Centre in London. Prior to an autopsy, the female alien awakens and drains the life force out of a guard. She then escapes the facility and proceeds to drain other humans of their life force, revealing an ability to shape-shift.\n",
      "Meanwhile, in Texas, an escape pod from Churchill is found, with Col. Tom Carlsen inside. Carlsen is flown to London, where he describes the course of events, culminating in the draining of the crew's life force. Carlsen explains that he set fire to the shuttle with the intention of saving Earth from the same fate and escaped in the pod. However, when he is hypnotised, it becomes clear that Carlsen possesses a psychic link to the female alien. Carlsen and SAS Col Colin Caine trace the alien to a psychiatric hospital in Yorkshire. There, the two believe they have managed to trap the alien within the heavily sedated body of the hospital's manager, Dr Armstrong. Carlsen and Caine later learn that they were deceived, as the aliens had wanted to draw them out of London.\n",
      "As Carlsen and Caine are transporting Dr Armstrong back to London, the female alien escapes from her sedated host and disappears. In London, a plague has overtaken the city and martial law has been declared. The two male vampires, previously thought destroyed, have escaped from confinement by shape-shifting into the soldiers guarding them; the pair then transform most of London's population into zombies. After their life force has been drained by the male vampires, the victims seek out other humans to absorb their life force, perpetuating the cycle. The absorbed life forces are channeled by the male vampires to the female vampire, who transmits the accumulated energy to their spaceship in orbit.\n",
      "Dr Fallada impales one of the male vampires with an ancient device of \"leaded iron\". Carlsen admits to Caine that, while on Churchill, he felt compelled to open the female vampire's container and to share his life force with her. She is later found inside St. Paul's Cathedral, lying upon the altar, transferring the energy to her spaceship. She reveals, much to Carlsen's shock, that they are a part of each other due to the sharing of their life forces, thus their psychic bond. Caine follows Carlsen into the cathedral and is intercepted by the second male vampire, whom he kills. Carlsen impales himself and the female alien simultaneously. The female is only wounded and returns to her ship with Carlsen in tow, releasing a burst of energy that blows open the dome of St. Paul's. The two ascend the column of energy to the spaceship, which then returns to the comet.\n",
      "==================================\n",
      "6: The Little Hours : distance = 0.011184855422470719\n",
      "In the year 1347 in Garfagnana, a convent of nuns is led by Father Tommasso. The nuns include Alessandra, who wants a better life for herself and is held at the convent due to her father's support of the church rather than her own bidding; Ginevra, a gossip who is later revealed to be a lesbian and Jewish; and Fernanda, an emotionally unstable and violent woman. The three of them routinely assault the gardener, who quits in disgust. Meanwhile in Lunigiana, a young servant named Massetto gets caught having sexual relations with his master's wife. While on the run, he discovers Father Tommasso, who has gone to sell some embroidery but has instead gotten drunk and lost his possessions in the river. Massetto helps him get back home. The two arrange to have Massetto work as a gardener while pretending to be a deaf-mute, in hopes that this will dissuade the nuns from giving him trouble. Alessandra and Fernanda both end up having sex with Massetto. Massetto and Alessandra begin to form a closer bond while Ginevra begins to have feelings for Fernanda.\n",
      "Later, Fernanda kidnaps Massetto at knife-point and takes him into the forest, where she meets up with a coven of witches. She attempts to perform a fertility ritual with Massetto but is stopped by the arrival of Alessandra and Ginevra. Ginevra, under the hallucinogenic effects of belladonna, takes off her clothes and begins dancing and steals the convent's donkey. Massetto reveals that he is not a deaf-mute while trying to free himself. They return to the convent, and all of their secrets are revealed in the presence of the visiting Bishop Bartolomeo. Father Tommasso is sent away to become a monk after it is discovered that he and the Mother Superior are in love and have a secret relationship. Massetto is returned to his master and is held in a jail cell with the impending threat of torture and death until the three nuns (who have reconciled and formed an even stronger friendship) help him escape. While Alessandra, Massetto, Ginevra, and Fernanda each run hand-in-hand back to the convent, the Mother Superior and Father Tommasso have met up in secret under the pretense that the Mother Superior has gone to retrieve the donkey. They hide as the nuns and Massetto run by. Fernanda stops and stares in puzzlement at the once again freed donkey that she herself used as an excuse so many times to escape the convent, until Ginevra pulls her away. With the group gone, Father Tommasso and Mother Superior embrace and smile at each other.\n",
      "==================================\n",
      "7: The Twinkle in God's Eye : distance = 0.012719305697828531\n",
      "A newly ordained minister, Rev. Macklin, catches a ride to the town of Lodestone in a stagecoach carrying six dancehall girls. They are on their way to work for saloon owner Marty Callahan, including one, Laura, who once loved Callahan but no longer does.\n",
      "Macklin explains that his father once built a church in this town, but it burned to the ground. He now wants to rebuild it, but Callahan is opposed and persuades others not to help the preacher in any way. Only the saloon girls attend his first service.\n",
      "A gang of outlaws led by one called Lou robs the saloon and hides the loot in the church. Lou and his men pretend to be religious converts until an opportunity can arise to retrieve their money. Macklin, trying to raise money, enters a rodeo and wins a $300 prize, but Laura also competes, is thrown from a bronco and ends up in a wheelchair.\n",
      "Macklin befriends a band of Indians, who assist in his endeavors. Lou sincerely does become a convert and even Callahan has a change of heart when Macklin returns the stolen money. Laura, seeing a new side of Callahan, agrees to marry him, so Macklin conducts their wedding.\n",
      "==================================\n",
      "8: Two Rode Together : distance = 0.012938649924763013\n",
      "In 1880s Tascosa, Texas, Marshal Guthrie McCabe is content to be the business and personal partner of attractive saloon owner Belle Aragon, receiving ten percent of the profits. When relatives of Comanche captives demand that Army Major Fraser find their lost ones, he uses a combination of army pressure and rewards from the families to get the reluctant McCabe to take on the job of ransoming any he can find. He assigns Lt. Jim Gary, a friend of McCabe's, to accompany him.\n",
      "Marty Purcell is haunted by the memory of her younger brother Steve, abducted nine years earlier when he was eight and she was thirteen. She keeps a music box that belonged to him. McCabe warns her that Steve will not remember her because he was a young boy when he was taken. McCabe is also promised a large reward by Harry Wringle, the wealthy stepfather of another boy.\n",
      "McCabe bargains with Chief Quanah Parker and finds four white captives. Two refuse to go back with him, one a young woman who is now married with children and the other an old woman, Mrs. Clegg, who regards herself as already dead. He does ransom a teenaged boy named Running Wolf, who McCabe hopes is the lost son of the wealthy Wringles, and a Mexican woman, Elena de la Madriaga. Elena is the wife of Stone Calf, a militant rival of Quanah. The evening the two men leave camp with their \"rescued\" captives, Stone Calf tries to take back his wife and is killed by McCabe, much to the Quanah's satisfaction.\n",
      "Running Wolf makes it very clear that he hates white people and the rich man refuses to accept him. However, a severely traumatized and broken woman is convinced that Running Wolf is her long lost son and claims him. Later, when she tries to cut his hair, he kills her. The settlers decide to lynch the boy, despite Lt. Gary's attempt to stop them. As they drag him away, Running Wolf knocks over Marty's music box. He hears it play and recognizes the melody. Marty cannot save him and is forced to accept that nothing could have been done to bring back the brother she remembered. She accepts Lt. Gary's proposal of marriage.\n",
      "Elena finds herself ostracized by white society, deemed a woman who \"degraded herself\" by submitting to a savage rather than killing herself. Meanwhile, she and McCabe have fallen in love, exemplified when he gives the soldiers and their wives a dressing down for their treatment of Elena. When McCabe discovers that Belle took his simple-minded deputy as a lover and got him elected to replace McCabe as marshal. After one last humiliation from Belle, Elena decides to go to California, and McCabe happily decides to go with her. As they leave, Lt. Gary tells Belle that his friend \"finally found something that he wants more than 10% of.\"\n",
      "==================================\n",
      "9: Wristcutters: A Love Story : distance = 0.013051298208665685\n",
      "After Zia commits suicide, he finds himself in an afterlife limbo much the same as life, just slightly worse. Here the color is dim, there are no stars, and no one can smile. This strange realm is populated by people who have committed suicide, such as Eugene, a Russian musician who lives with his mother, father, and brother â€“ all suicide victims. Together they waste most of their afterlives in bars, until Zia learns from a friend, Brian, that his ex-girlfriend, Desiree, has also committed suicide. He and Eugene take to the road to find her, in Eugene's rundown car. Early on, it is revealed that Eugene's car has two idiosyncrasies: a sort of black hole underneath the passenger seat where items that are dropped disappear forever and broken headlights that cannot be fixed by even the most adept of mechanics. On their trip, they pick up hitchhiker Mikal, who insists there has been a mistake, and is seeking the \"people in charge\" (a.k.a. the PIC) in order to be sent back.\n",
      "After a few adventures across the country, as the trio journey along a desolate highway, Mikal pushes a button, miraculously activating the broken headlights on Eugene's car. Shortly thereafter, they come upon a man lying in the middle of the dark highway, forcing them to veer off the road in order to avoid hitting him and wrecking the car in the process.\n",
      "They discover the man, Kneller, an eccentric commune leader, had fallen asleep while looking for his dog. Kneller invites them back to his camp, where they quickly discover that minor \"miracles\" occur, as long as the campers remain apathetic about the result. The group stays with the camp longer than intended, and Zia begins to obsess over the miracles and his inability to perform them. When contrasting this to Mikal's obsession with the people in charge, she reveals that her death was an accidental overdose. Eugene meets a young woman, Nanuk, whom he romances. Just as Mikal and Zia discuss their plans to leave Kneller's camp, another camper, Yan, emerges from the woods with news that Kneller's dog has been abducted by a cult leader called \"Messiah King\". Kneller, Zia, Mikal, and Yan set off in search of King and Kneller's dog.\n",
      "The group soon find themselves lost and decide to bed down for the night. Unable to sleep, Mikal and Zia discover a nearby ocean shore, where they kiss and spend the night together. In the morning, Kneller discovers them lying among a mass of (presumably used) condoms and needles. The group eventually reach King's camp, where they discover that King is readying himself for a \"real\" miracle â€“ to separate his soul from his body. As Kneller confronts King, Zia discovers that his Desiree is a devout cult follower, having committed suicide for the purpose of following King into the afterlife.\n",
      "As King is about to perform public, ritual suicide, Kneller reveals himself to be an undercover agent for the people in charge. King and Desiree are taken away, while Mikal leaves with them, promising Zia that she'll return. As Zia waits, Eugene and Nanuk arrive, explaining that Mikal has been returned to life and Kneller's camp has been shut down. They depart together on a train, giving Eugene's car to Zia. After finally performing a miracle - creating a star in the sky next to one that Mikal had created earlier - Zia enters the black hole under the car seat.\n",
      "In a large warehouse filled with halls of boxes, Kneller is seen picking up Zia's file from a box, placing it into his inside breast pocket, and commenting on how fortunate it is to know people in high places. Zia wakes up in a hospital bed. He turns his head, noting his parents outside talking to doctors. When he looks at the person in the bed next to his, he sees Mikal. Both look at each other and smile.\n",
      "==================================\n",
      "10: Mr. Emmanuel : distance = 0.013354018221434671\n",
      "Set in 1938, Isaac Emmanuel has retired from a Jewish welfare agency in Doomington, England, and is looking for something to do with his time. A letter arrives asking him to come to the aid of a friend who is caring for three German boys who are refugees from Nazi Germany. One of the three, a Jewish boy named Bruno Rosenheim, is very despondent over the recent death of his father and the disappearance of his mother. He waits to get a letter from her, but the letter never arrives. Mr. Emmanuel, a British citizen who himself is a former refugee from Russia, sympathises with the young man. After the lad attempts to take his life, Mr. Emmanuel promises to travel to Germany to find out what he can about Bruno's mother.\n",
      "Once he arrives in Berlin, Emmanuel takes lodging at a boarding-house. He inquires of those around him, not realising how unusual and potentially dangerous it is to do so. Everyone he meets is too scared to give him information. The police and even refugee organisations are also unhelpful. Late one night the Gestapo arrive and take Mr. Emmanuel from his bed to a prison for questioning. The initial line of questioning is of being a spy and communist sympathiser. Mr. Emmanuel believes that his British citizenship will provide some measure of protection, but the police then accuse him of complicity in the assassination of a high-ranking party official, and the criminal charge places Mr. Emmanuel beyond the help of the British embassy. While incarcerated, Mr Emmanuel watches as fellow prisoners are tortured and led off to execution.\n",
      "Elsie Silver, a half-Jewish nightclub singer and the toast of Berlin society, recognises Emmanuel from England, where she grew up. She tries to intervene, but gets nowhere. She convinces her social-climbing Nazi protector to assist, and Emmanuel is released, with twelve hours to leave Germany. Instead of leaving the country, he continues to search for Bruno's mother. He eventually finds her, but she is now married to a prominent Nazi and denies that she is Jewish or that she has a son.\n",
      "Sadly, Mr Emmanuel returns to Britain and tells Bruno that his mother is dead.\n",
      "==================================\n"
     ]
    }
   ],
   "source": [
    "sorted_movies = sorted(zip(movies['title'], movies['desc'], distances), key=lambda x: x[2], reverse=False)\n",
    "top_10_similar_movies = sorted_movies[:10]\n",
    "print(\"Top 10 similar movies are:\")\n",
    "\n",
    "for i in range(10):\n",
    "    print(str(i+1)+\": \"+top_10_similar_movies[i][0]+\" : distance = \"+str(top_10_similar_movies[i][2]))\n",
    "    print(top_10_similar_movies[i][1])\n",
    "    print('==================================')"
   ]
  },
  {
   "cell_type": "markdown",
   "id": "a256254c-57e1-45fa-be73-99c7f8fafb5a",
   "metadata": {},
   "source": [
    "As we can see, the TDA has produced some unexpected results. Surely we have hoped that the other movies of the \"Harry Potter\" film series (which are present in the file \"MovieData.csv\") would make the top 10 list.  \n",
    "Nontheless, we can see that the movies from the list do share some similarities to the description of the first installment of the \"Harry Potter\" franchise, with many of them carrying super-natural motives, gruesome events etc.\n",
    "This does indicate that TDA produces meaningful results. On the other hand, the shortcomings of this particular method can be explained by the relatively small number of points representing each of the descriptions. We can ovecome this problem by simply increasing the number of blocs, but that would produce less valuable TfIdf values. This leads to the conclussion that the algorithm would produce better results if we would have drastically longer descriptions than the ones given, which could be the subject for further research."
   ]
  },
  {
   "cell_type": "code",
   "execution_count": null,
   "id": "a12cf892-c836-4b73-baed-46dd49137d73",
   "metadata": {},
   "outputs": [],
   "source": []
  }
 ],
 "metadata": {
  "kernelspec": {
   "display_name": "Python 3 (ipykernel)",
   "language": "python",
   "name": "python3"
  },
  "language_info": {
   "codemirror_mode": {
    "name": "ipython",
    "version": 3
   },
   "file_extension": ".py",
   "mimetype": "text/x-python",
   "name": "python",
   "nbconvert_exporter": "python",
   "pygments_lexer": "ipython3",
   "version": "3.12.4"
  }
 },
 "nbformat": 4,
 "nbformat_minor": 5
}
