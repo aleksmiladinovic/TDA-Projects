{
 "cells": [
  {
   "cell_type": "markdown",
   "id": "9845c7f1-8a3f-4c12-a49f-3dac72c4c096",
   "metadata": {},
   "source": [
    "# Topological text analysis - similarity of movie descriptions"
   ]
  },
  {
   "cell_type": "markdown",
   "id": "f7e0bf40-9eef-4934-bb3f-e28e59f10af9",
   "metadata": {},
   "source": [
    "In this notebook we will present how topological methods can be used to analyse text."
   ]
  },
  {
   "cell_type": "markdown",
   "id": "8a3cdd5b-903c-485b-bdb1-69c7fcc3acd2",
   "metadata": {},
   "source": [
    "The main idea is to decompose the given text into blocks, creating a corpus, after which we would use the TfIdf method to obtain numerical values i.e. points from blocks of text. These points are later subject to the topological methods: we use Vietrois-Rips filtration to create persistence diagrams of given movie description. Subsequently, we use the Bottleneck distance of persistence diagrams to establish the level of similarity between descriptions."
   ]
  },
  {
   "cell_type": "markdown",
   "id": "97827f3d-a45c-4f48-9f00-b464c0852afd",
   "metadata": {},
   "source": [
    "We start by uploading the necessary python packages:"
   ]
  },
  {
   "cell_type": "code",
   "execution_count": 5,
   "id": "4c3838d0-50ed-406b-a7a2-d3cae35f3a9d",
   "metadata": {},
   "outputs": [],
   "source": [
    "import numpy as np\n",
    "import pandas as pd\n",
    "import os\n",
    "import sklearn\n",
    "from sklearn.feature_extraction.text import TfidfVectorizer\n",
    "from sklearn.feature_extraction.text import CountVectorizer\n",
    "from sklearn.decomposition import PCA\n",
    "from sklearn.metrics.pairwise import cosine_similarity\n",
    "from sklearn import metrics\n",
    "import math"
   ]
  },
  {
   "cell_type": "markdown",
   "id": "bc1d72ed-d554-4c83-b797-33b9dc24a03f",
   "metadata": {},
   "source": [
    "For TDA, we use the giotto library:"
   ]
  },
  {
   "cell_type": "code",
   "execution_count": 8,
   "id": "6f436ffd-d5ff-4437-89f7-be79ec125283",
   "metadata": {},
   "outputs": [],
   "source": [
    "from gtda.homology import VietorisRipsPersistence\n",
    "from gtda.diagrams import PairwiseDistance"
   ]
  },
  {
   "cell_type": "markdown",
   "id": "74f6d564-4ff5-4d39-a66d-56a04b473e49",
   "metadata": {},
   "source": [
    "Now, we upload the necessary packages for text processing:"
   ]
  },
  {
   "cell_type": "code",
   "execution_count": 11,
   "id": "8b0c8e52-941a-495f-bedf-ca954e54d356",
   "metadata": {},
   "outputs": [],
   "source": [
    "import nltk\n",
    "from nltk import pos_tag\n",
    "from nltk.tokenize import word_tokenize\n",
    "from nltk.corpus import stopwords\n",
    "from nltk.stem.wordnet import WordNetLemmatizer\n",
    "\n",
    "from collections import defaultdict\n",
    "import re\n",
    "from langdetect import detect"
   ]
  },
  {
   "cell_type": "markdown",
   "id": "f956277c-2b61-4d3c-a794-5ee803ba42ec",
   "metadata": {},
   "source": [
    "We are ready to begin.  \n",
    "The movie of the most interest to us would be the \"Harry Potter and the Philospher's Stone\".  \n",
    "Given a file of multiple movie descriptions, we would like to see what would be the movies most similar to the given one, based on their descriptions, using the topological methods."
   ]
  },
  {
   "cell_type": "code",
   "execution_count": 27,
   "id": "ad30b914-32f1-4789-93f4-f20422550aa8",
   "metadata": {},
   "outputs": [],
   "source": [
    "main_description = ''\n",
    "with open(\"Harry Potter description.txt\",\"r\") as f:\n",
    "    main_description = f.read()"
   ]
  },
  {
   "cell_type": "code",
   "execution_count": 29,
   "id": "cf35e1f1-e492-4dee-b83d-66bfbb3ca28f",
   "metadata": {},
   "outputs": [
    {
     "name": "stdout",
     "output_type": "stream",
     "text": [
      "Ten years later, just before Harry's eleventh birthday, owls begin delivering letters addressed to him. When the abusive Dursleys adamantly refuse to allow Harry to open any and flee to an island hut, Hagrid arrives to personally deliver Harry's letter of acceptance to Hogwarts. Hagrid also reveals that Harry's late parents, James and Lily, were killed by a dark wizard named Lord Voldemort. The killing curse that Voldemort had cast towards Harry rebounded, destroying Voldemort's body and giving Harry the lightning-bolt scar on his forehead. Hagrid then takes Harry to Diagon Alley for school supplies and gives him a pet snowy owl whom he names Hedwig. Harry buys a wand that is connected to Voldemort's own wand. At King's Cross, Harry boards the Hogwarts Express train, and meets fellow first-years Ron Weasley and Hermione Granger during the journey. Arriving at Hogwarts, Harry also meets Draco Malfoy, who is from a wealthy wizard family; the two immediately form a rivalry. The students assemble in the Great Hall where the Sorting Hat sorts the first-years into four respective houses: Gryffindor, Hufflepuff, Ravenclaw, and Slytherin. Harry is placed into Gryffindor alongside Ron and Hermione, while Draco is placed into Slytherin, a house noted for dark wizards.\n"
     ]
    }
   ],
   "source": [
    "print(main_description)"
   ]
  },
  {
   "cell_type": "markdown",
   "id": "bd37d13f-9e6d-4eea-b121-65087ff9bb14",
   "metadata": {},
   "source": [
    "The movie descriptions are stored in the file \"MovieData.csv\". We will now read this data, but we will only consider the lengthy descriptions of movies, since the use of topological methods would make sense. Additionally, we will only consider those descriptions that are written in english."
   ]
  },
  {
   "cell_type": "code",
   "execution_count": 19,
   "id": "bb40fb27-bc2f-4f7c-8ff7-36f794c66731",
   "metadata": {},
   "outputs": [],
   "source": [
    "def read_data(limit=1000):\n",
    "    movies = pd.read_csv('MovieData.csv')\n",
    "    movies['desc'] = movies['desc'].fillna(' ') # fill the NaN slots with a blank line\n",
    "    movies = movies[movies['desc'].apply(len) > limit] # we only consider the descriptions longer than *limit* characters\n",
    "    movies = movies.drop_duplicates(subset = ['title']) # drop descriptions of movies that apear multiple times\n",
    "    movies['lang'] = movies['desc'].apply(detect) # detect the language in which the descriptions were made\n",
    "    movies = movies[movies['lang'] == 'en'] # select only the descriptions written in English\n",
    "    movies = movies.drop('lang', axis=1) # delete the 'lang' column, since we won't be using it in the future\n",
    "\n",
    "    return movies"
   ]
  },
  {
   "cell_type": "code",
   "execution_count": 21,
   "id": "07b01d9b-b6b2-47b5-9845-2163bc03434e",
   "metadata": {},
   "outputs": [],
   "source": [
    "movies = read_data()"
   ]
  },
  {
   "cell_type": "markdown",
   "id": "be67b996-a8a9-4411-b0d3-39b1f63cc573",
   "metadata": {},
   "source": [
    "We can see some samples of given movie descriptions:"
   ]
  },
  {
   "cell_type": "code",
   "execution_count": 24,
   "id": "287b24df-2801-41cf-995a-564c0544f550",
   "metadata": {},
   "outputs": [
    {
     "name": "stdout",
     "output_type": "stream",
     "text": [
      "                 title                                               desc\n",
      "0      Sorrowful Jones  Sorrowful Jones is a New York bookie who keeps...\n",
      "1   South of St. Louis  During the Civil War, Kip Davis (Joel McCrea),...\n",
      "4      Strange Bargain  Because the firm is bankrupt, bookkeeper Sam W...\n",
      "6    Streets of Laredo  A trio of outlaws, Jim Dawkins (Holden), Loren...\n",
      "11          Task Force  As a 1917 graduate of the Naval Academy, Naval...\n"
     ]
    }
   ],
   "source": [
    "print(movies.head())"
   ]
  },
  {
   "cell_type": "markdown",
   "id": "982f040d-72f3-4eff-b25d-8c23388c7d12",
   "metadata": {},
   "source": [
    "Wi will now process all of this data:"
   ]
  },
  {
   "cell_type": "code",
   "execution_count": 34,
   "id": "f627e628-3209-4503-be48-cc7fa5219a3d",
   "metadata": {},
   "outputs": [
    {
     "name": "stderr",
     "output_type": "stream",
     "text": [
      "[nltk_data] Downloading package wordnet to\n",
      "[nltk_data]     C:\\Users\\Korisnik\\AppData\\Roaming\\nltk_data...\n",
      "[nltk_data]   Package wordnet is already up-to-date!\n",
      "[nltk_data] Downloading package stopwords to\n",
      "[nltk_data]     C:\\Users\\Korisnik\\AppData\\Roaming\\nltk_data...\n",
      "[nltk_data]   Package stopwords is already up-to-date!\n",
      "[nltk_data] Downloading package punkt to\n",
      "[nltk_data]     C:\\Users\\Korisnik\\AppData\\Roaming\\nltk_data...\n",
      "[nltk_data]   Package punkt is already up-to-date!\n",
      "[nltk_data] Downloading package averaged_perceptron_tagger to\n",
      "[nltk_data]     C:\\Users\\Korisnik\\AppData\\Roaming\\nltk_data...\n",
      "[nltk_data]   Package averaged_perceptron_tagger is already up-to-\n",
      "[nltk_data]       date!\n"
     ]
    },
    {
     "data": {
      "text/plain": [
       "True"
      ]
     },
     "execution_count": 34,
     "metadata": {},
     "output_type": "execute_result"
    }
   ],
   "source": [
    "nltk.download('wordnet')\n",
    "nltk.download('stopwords')\n",
    "nltk.download('punkt')\n",
    "nltk.download('averaged_perceptron_tagger')"
   ]
  },
  {
   "cell_type": "code",
   "execution_count": 36,
   "id": "3115391d-88c3-48d2-9c68-adfb7d541d72",
   "metadata": {},
   "outputs": [],
   "source": [
    "stops = stopwords.words('english')\n",
    "lemma = WordNetLemmatizer()"
   ]
  },
  {
   "cell_type": "code",
   "execution_count": 42,
   "id": "9c672618-92fb-430b-90ac-dc2a63072c1e",
   "metadata": {},
   "outputs": [],
   "source": [
    "tag_map = defaultdict(lambda: 'n')\n",
    "tag_map['J'] = 'a'\n",
    "tag_map['V'] = 'v'\n",
    "tag_map['R'] = 'r'\n",
    "\n",
    "def get_wordnet_tags(tokens):\n",
    "    tagged_tokens = pos_tag(tokens)\n",
    "    return [(token[0], tag_map[token[1][0]]) for token in tagged_tokens]\n",
    "\n",
    "def process_text(text):\n",
    "    text = text.lower()\n",
    "    text = re.sub(\"[^a-z ]\", \" \", text)\n",
    "    tokens = word_tokenize(text)\n",
    "    tokens = get_wordnet_tags(tokens)\n",
    "    tokens = [lemma.lemmatize(word=token[0], pos=token[1]) for token in tokens]\n",
    "    tokens = [word for word in tokens if word not in stops and len(word) > 2]\n",
    "    return ' '.join(tokens)\n",
    "\n",
    "def process_data( movies ):\n",
    "    movies['processed desc'] = movies['desc'].apply(process_text)\n",
    "    return movies"
   ]
  },
  {
   "cell_type": "code",
   "execution_count": 40,
   "id": "d8e1490d-eb2e-4ce9-9ff8-4972751c4624",
   "metadata": {},
   "outputs": [
    {
     "name": "stdout",
     "output_type": "stream",
     "text": [
      "ten year later harry eleventh birthday owls begin deliver letter address abusive dursleys adamantly refuse allow harry open flee island hut hagrid arrive personally deliver harry letter acceptance hogwarts hagrid also reveal harry late parent james lily kill dark wizard name lord voldemort kill curse voldemort cast towards harry rebound destroy voldemort body give harry lightning bolt scar forehead hagrid take harry diagon alley school supply give pet snowy owl name hedwig harry buy wand connect voldemort wand king cross harry board hogwarts express train meet fellow first year ron weasley hermione granger journey arrive hogwarts harry also meet draco malfoy wealthy wizard family two immediately form rivalry student assemble great hall sort hat sort first year four respective house gryffindor hufflepuff ravenclaw slytherin harry place gryffindor alongside ron hermione draco place slytherin house note dark wizard\n"
     ]
    }
   ],
   "source": [
    "processed_main_description = process_text(main_description)\n",
    "\n",
    "print(processed_main_description)"
   ]
  },
  {
   "cell_type": "code",
   "execution_count": 44,
   "id": "1ba81229-d52b-47e8-8503-49654d39905d",
   "metadata": {},
   "outputs": [],
   "source": [
    "movies = process_data(movies)"
   ]
  },
  {
   "cell_type": "markdown",
   "id": "f0ff32b0-0df4-46b7-b988-58b673450f9a",
   "metadata": {},
   "source": [
    "Since we have finished the processing of the text we are ready to use the TDA tools:  \n",
    "As has been said in the beginning, each description will be decomposed into several blocks of text. Upon applying the TfIdf method, these blocks will be transformed into vectors i.e. points. These points will be subject to the Vietoris-Rips filtration based on which we will otain the persistence classes of every description. Based on the bottleneck distance of persistence diagrams, we will find the most similar movies to the one of \"Harry Potter and the Philosopher's Stone\"."
   ]
  },
  {
   "cell_type": "code",
   "execution_count": 48,
   "id": "e2abde87-aca3-41e0-8d4e-b0b8f0c3fe54",
   "metadata": {},
   "outputs": [],
   "source": [
    "def block_decomposition(text, number_of_blocks=5):\n",
    "    text_len = len(text)\n",
    "    block_len = text_len//number_of_blocks\n",
    "    blocks = [text[i:i+block_len] for i in range(0, text_len, block_len)]\n",
    "    if len(blocks)%2 == 1:\n",
    "        blocks.append('')\n",
    "    return blocks\n",
    "\n",
    "def get_points(text, number_of_blocks=5):\n",
    "    blocks = block_decomposition(text=text, number_of_blocks=number_of_blocks)\n",
    "    vectorizer = TfidfVectorizer()\n",
    "    prepoints = vectorizer.fit_transform(blocks)\n",
    "    pca = PCA(n_components=2)\n",
    "    points = pca.fit_transform(prepoints.toarray())\n",
    "    return points"
   ]
  },
  {
   "cell_type": "code",
   "execution_count": 50,
   "id": "1955568f-c8dd-4fd3-ad82-f566224a1eec",
   "metadata": {},
   "outputs": [],
   "source": [
    "def get_diagram(points, edge_length=0.5):\n",
    "    vrp = VietorisRipsPersistence(metric='euclidean', homology_dimensions=[0, 1], max_edge_length=edge_length)\n",
    "    return vrp.fit_transform(points[None,:,:])"
   ]
  },
  {
   "cell_type": "code",
   "execution_count": 52,
   "id": "d04c3de8-2c43-475e-a9ac-f3c71b0dcec8",
   "metadata": {},
   "outputs": [],
   "source": [
    "def bottlenck_distance(diagram1, diagram2):\n",
    "    bottleneck_dist = PairwiseDistance(metric='bottleneck')\n",
    "    bottleneck_dist.fit(diagram1)\n",
    "    d = bottleneck_dist.transform(diagram2)\n",
    "    return d[0][0]"
   ]
  },
  {
   "cell_type": "markdown",
   "id": "a3467e20-72b6-46da-bdf0-83c70636d1f2",
   "metadata": {},
   "source": [
    "We are ready to proceed:"
   ]
  },
  {
   "cell_type": "code",
   "execution_count": 55,
   "id": "94df66c3-65fc-45a7-b6a0-dae1ee3d923f",
   "metadata": {},
   "outputs": [],
   "source": [
    "main_points = get_points(processed_main_description)\n",
    "main_diagram = get_diagram(main_points)\n",
    "\n",
    "distances = []\n",
    "\n",
    "for movie_description in movies['processed desc']:\n",
    "    points = get_points(movie_description)\n",
    "    diagram = get_diagram(points)\n",
    "    distances.append(bottlenck_distance(main_diagram, diagram))"
   ]
  },
  {
   "cell_type": "markdown",
   "id": "bdfbd190-cc06-4c48-ba77-09285a3a6e3e",
   "metadata": {},
   "source": [
    "After this process is finished we can see what does the topology of given description says which movies are most similar to the given one:"
   ]
  },
  {
   "cell_type": "code",
   "execution_count": 59,
   "id": "d7309594-05a0-460a-a54e-53844ec70170",
   "metadata": {},
   "outputs": [
    {
     "name": "stdout",
     "output_type": "stream",
     "text": [
      "Top 10 similar movies are:\n",
      "1: The First Legion\n",
      "Fr. John Fulton, a Jesuit instructor in a seminary school, feels he has lost his vocation. A talk with his friend Fr. Marc Arnoux is no help. But on the night he plans to leave the seminary (and the Order) his old teacher Fr. Jose Sierra miraculously gets up and walks, to tell him to stay. The young, wheelchair-bound neighbor Terry Gilmartin regains hope a similar miracle might allow her to walk; her physician, Dr. Peter Morrell, the same one who attended Fr. Sierra, and who is in love with Terry, confesses that he had engineered Sierra's miraculous recovery, to Fr. Arnoux, but refuses his advice to tell the truth. The Jesuit seminary rector orders Fr. Arnoux to plead the validity of the miracle before the Vatican, in Rome. When his highly respected subordinate refuses, the rector dies of a heart attack. At that point Dr. Morrell admits his deception, in particular to Terry, who goes to the seminary chapel and, miraculously, gets out of her wheelchair, at the moment she prays for Dr. Morrell.\n",
      "==================================\n",
      "2: California Conquest\n",
      "Don Arturo Bordega (Cornel Wilde) is part of the old Spanish nobility, and a vocal advocate for California'a annexation by the United States. On his way to a secret meeting in support of that goal, he is attacked by bandits led by JosÃ© MartÃ­nez (Alfonso Bedoya), but narrowly escapes. The planned \"guest of honor\" at the secret meeting to which Bordega is en route, is none other than then-U.S. Army Captain John Charles Fremont. Martinez's thugs attempt to assassinate Fremont while he is traveling to the same meeting, but succeed only in lightly wounding him. It is subsequently revealed that the corrupt Brios brothers, Ernesto (Eugene Iglesias) and Fredo (John Dehner) have paid Martinez to violently oppose the movement advocating American annexation of California, as part of their unscrupulous plot to deliver California to the imperial domain of the Russian Czar (in exchange for a promise to appoint first Ernesto, and later Fredo, as the Russian colonial governor).\n",
      "Martinez's men violently seize a quantity of rifles from gunsmith Sam Lawrence (Hank Patterson), in order to arm a force in support of the Russian conquest of California. This invokes the wrath of his beautiful daughter, Julia (Teresa Wright), who winds up joining Arturo Bordega in his mission to infiltrate Martinez's bandit group, in order to foil their part in the nefarious scheme. Martinez is eventually killed by Julia Lawrence (and Ernesto Brios is slain by Bordega in a duel), during a period in which they learn the nature of the Brios' plot. Arturo Bordega and Julia Lawrence eventually travel to Fort Ross, where they are able to capture Fredo Brios (as well as a fictional Russian princess, Helena de Gagarine, and a high-ranking Russian army officer), and otherwise manage to thwart the treasonous conspiracy. During the course of their travels together, Bordega and Lawrence fall in love, and the film concludes with their stated intent to marry, and \"have 14 children.\"\n",
      "==================================\n",
      "3: Monkey Business\n",
      "Dr. Barnaby Fulton (Cary Grant), an absent-minded research chemist for the Oxly chemical company, is trying to develop an elixir of youth. He is urged on by his commercially minded boss, Oliver Oxly (Charles Coburn). One of Dr. Fulton's chimpanzees, Esther, gets loose in the laboratory, mixes a beaker of chemicals, and pours the mix into the water cooler. The chemicals have the rejuvenating effect Fulton is seeking.\n",
      "Unaware of Esther's antics, Fulton tests his latest experimental concoction on himself and washes it down with water from the cooler. He soon begins to act like a 20-year-old and spends the day out on the town with his boss's secretary, Lois Laurel (Marilyn Monroe). When Fulton's wife, Edwina (Ginger Rogers), learns that the elixir \"works\", she drinks some along with water from the cooler and turns into a prank-pulling schoolgirl.\n",
      "Edwina makes an impetuous phone call to her old flame, the family lawyer, Hank Entwhistle (Hugh Marlowe). Her mother, who knows nothing of the elixir, believes that Edwina is truly unhappy in her marriage and wants a divorce.\n",
      "Barnaby takes more elixir and befriends a group of kids playing as make-believe Indians. They capture and \"scalp\" Hank (giving him a Mohawk hairstyle). Meanwhile, Edwina lies down to sleep off the formula. When she awakens, a naked baby is next to her and Barnaby's clothes are nearby. She presumes he has taken too much formula and regressed to a baby. She takes the child to Oxly to resolve the problem.\n",
      "Meanwhile, more and more scientists (and Mr Oxly) at the laboratory are drinking the water and reverting to a second childhood. The formula is lost with the last of the water poured away.\n",
      "The parting adage is \"you're old only when you forget you're young.\"\n",
      "==================================\n",
      "4: Phone Call from a Stranger\n",
      "After his wife Jane (Helen Westcott) admits to an extramarital affair, Iowa attorney David Trask (Gary Merrill) abandons her and their daughters and heads for Los Angeles. His flight is delayed, and while waiting in the airport restaurant he meets a few of his fellow passengers. Troubled, alcoholic Dr. Robert Fortness (Michael Rennie), haunted by his responsibility for a car accident in which a colleague, Dr. Tim Brooks (Hugh Beaumont) was killed, is returning home to his wife Claire (Beatrice Straight) and teenage son Jerry (Ted Donaldson), and plans to tell the district attorney the truth about the accident.\n",
      "Aspiring actress Binky Gay (Shelley Winters) is hoping to free her husband Mike Carr (Craig Stevens) from the clutches of his domineering mother, former vaudevillian Sally Carr (Evelyn Varden), who looks down on Binky. Overly loud traveling salesman Eddie Hoke (Keenan Wynn) shares a photograph of his young, attractive wife Marie (Bette Davis) wearing a swimsuit. When a storm forces the aircraft to land en route, they continue to share their life stories during the unexpected four-hour layover. They exchange home phone numbers with the idea that they may one day have a reunion.\n",
      "Upon resuming their journey, the aircraft crashes and Trask is one of a handful of survivors; most of the passengers and crew are killed, including Trask's three acquaintances. Trask contacts their families by phone and invites himself to their homes. Despite Claire's objections, Trask tells Jerry the truth about his father's past, but assures him that his father was a good man determined to right the wrong he had committed. Hoping to change Sally's opinion of her late daughter-in-law, he tells her Binky had been cast as Mary Martin's replacement in South Pacific on Broadway and had recommended Sally for a role.\n",
      "Trask's final visit is to Marie, who he discovers is not the beautiful girl of Eddie's photograph, but an invalid paralyzed from the waist down. Marie reveals that early in her marriage she had left Eddie, whom she found to be vulgar and tiresome, for another man, Marty Nelson (Warren Stevens), who deserted her after she hit her head on a dock while she was swimming. While in the hospital, she was confined to an iron lung and feeling hopeless about her future when Eddie arrived to take her home. Marie tells Trask that despite his often obnoxious behavior, Eddie was the most decent man she had ever known, and had taught her the true meaning of love.\n",
      "Marie's story teaches Trask a lesson about marital infidelity and forgiveness, and he calls Jane to tell her he's returning home.\n",
      "==================================\n",
      "5: The Beast from 20,000 Fathoms\n",
      "Far north of the Arctic Circle, a nuclear bomb test, dubbed \"Operation Experiment\", is conducted. Prophetically, right after the blast, physicist Thomas Nesbitt muses, \"What the cumulative effects of all these atomic explosions and tests will be, only time will tell\". The explosion awakens a 30-foot (9.1Â m) tall, 100-foot (30.5Â m) long carnivorous animal known as Rhedosaurus, thawing it out of the ice where, it had been held in suspended animation. Nesbitt is the only surviving witness to the beast's awakening, and is later dismissed out-of-hand as being delirious at the time of his \"sighting\". Despite the skepticism, he persists, knowing what he saw.\n",
      "The Beast begins making its way down the east coast of North America, sinking a fishing ketch off the Grand Banks, destroying another near Marquette, Canada, wrecking a lighthouse in Maine, and destroying buildings in Massachusetts. Nesbitt eventually gains allies in paleontologist Thurgood Elson and his young assistant Lee Hunter after one of the surviving fishermen identifies from a collection of drawings the very same dinosaur as Nesbitt saw. Plotting the sightings of the Beast's appearances on a map for skeptical military officers, Elson proposes the Beast is returning to the Hudson River area, where fossils of Rhedosaurus were first found. In a diving bell search of the undersea Hudson River Canyon, Professor Elson is killed after his bell is swallowed by the Beast, which eventually comes ashore in Manhattan. A later newspaper report of its rampage lists \"180 known dead, 1500 injured, damage estimates $300 million\".\n",
      "Meanwhile, military troops led by Colonel Jack Evans attempt to stop the Rhedosaurus with an electrified barricade, then blast a hole with a bazooka in the Beast's throat, which drives it back into the sea. Unfortunately, it bleeds all over the streets of New York, unleashing a \"horrible, virulent\" prehistoric contagion, which begins to infect the populace, causing even more fatalities. The infection precludes blowing up the Rhedosaurus or even setting it ablaze, lest the contagion spread further. It is then decided to shoot a radioactive isotope into the Beast's neck wound with hopes of burning it from the inside, killing it without releasing the contagion.\n",
      "When the Rhedosaurus comes ashore and reaches Coney Island's amusement park, military sharpshooter Corporal Stone takes a rifle grenade loaded with a potent radioactive isotope, and climbs on board a roller coaster. Riding the coaster to the top of the tracks, so he can get to eye-level with the Beast, he fires the isotope into its neck wound. The creature thrashes about, causing the roller coaster to fall to the ground, and start a fire. With the fire spreading rapidly, the park is completely engulfed in flames. The Rhedosaurus eventually suffers heat stroke and dies.\n",
      "==================================\n",
      "6: Beyond Mombasa\n",
      "Matt Campbell (Cornel Wilde) arrives in Kenya, where his brother George is reported missing. A man named Ralph Hoyt (Leo Genn) tells him that George has been killed by members of the \"Leopard Men\" cult.\n",
      "Matt is introduced to Hoyt's niece, Ann Wilson (Donna Reed), an anthropologist, who is puzzled by Matt's reluctance to go to Mombasa for his brother's funeral. Matt also meets big-game hunter Gil Rossi (Christopher Lee), who was helping George search for a valuable uranium mine. Hoyt claims the mine doesn't exist.\n",
      "Another business partner, Elliott Hastings (Ron Randell), claims that George's body has been cremated but he did find a map. An expedition beyond Mombasa is formed, guided by Ketimi (Dan Jackson) and other local tribesmen. A shared experience with a charge of hippos brings Matt and Ann closer together, while Gil is nearly killed by a crocodile before it is shot by Hastings.\n",
      "Tribesmen wearing leopard disguises attack Hastings that night. Ketimi is then killed by a poison dart, causing the other tribesmen to leave. Locating a shaft to the mine, Elliot, Matt and Ann descend into it. She discovers to her horror that Hoyt, her uncle, has murdered Gil with a blow gun. Hoyt confesses to killing Ketimi and paying other natives to disguise themselves as the mythical Leopard Men.\n",
      "Matt and Ann are about to become the next victims, but Ketimi's fellow tribesmen reappear and take their revenge.\n",
      "==================================\n",
      "7: The Eddy Duchin Story\n",
      "Fresh out of pharmacy school, young Eddy Duchin travels to New York in the 1920s to take a job playing piano for bandleader Leo Reisman's orchestra. But upon arrival, Eddy learns there is no such job.\n",
      "A wealthy socialite, Marjorie Oelrichs, overhears his playing and takes a personal interest in Eddy. When he is invited to the home of her wealthy aunt and uncle, the Wadsworths, for a party, Eddy is disappointed to discover that he has been asked there merely to entertain.\n",
      "Having fallen in love, Marjorie goes so far as to propose marriage to Eddy rather than the other way around. She has secret fears that she expresses on their wedding night, and tragedy strikes when Marjorie dies giving birth to their child.\n",
      "An anguished Eddy abandons his baby boy, Peter, leaving him in the Wadsworths' care, and goes away from New York for many years. He serves on a warship in the war. Finally persuaded to visit his son, he meets Peter's governess, a British woman named Chiquita, who grows on him after an uneasy start. Peter is learning to play the piano.\n",
      "Eddy has an engagement at the Waldorf-Astoria hotel, but his hand freezes while at the keyboard. He eventually is diagnosed with a fatal illness and has no more than a year to live. After he marries Chiquita, he can't bring himself to tell Peter about his illness, so he simply says that soon he'll be \"going away.\" Peter ultimately learns the truth.\n",
      "==================================\n",
      "8: Runaway Daughters\n",
      "Audrey Barton is the teen daughter of rich, irresponsible parents. When school classmate Tommy brings her home from a date, they spy Ruth Barton, her mother, passionately kissing a neighbor.\n",
      "Audrey's girlfriends have troubled home lives, too. Mary Rubach has a strict father who doesn't approve of her boyfriend Bob being 20. Angie Forrest's mother is off honeymooning with a third husband. Angie is glad when her brother Tony pays a visit, bringing along his girl, Dixie Jackson.\n",
      "Tommy tattles at school about what he saw Audrey's mother do. Taunted by another girl at school, Audrey gets into a fight and is expelled, putting her graduation at risk. Ruth shows no concern whatsoever with her daughter's dilemma, telling her that finding a man is more important than getting an education anyway. George Barton displays little interest in his daughter's situation, either.\n",
      "Bob joins the Army and urges Mary to elope, but her dad beats him up. Angie's brother leaves for Los Angeles, leaving her depressed. When a birthday party for Audrey is spoiled by the grown-ups, spiking the punch with gin, Audrey's had enough. She takes her gift from her parents, a new convertible, picks up Mary and Angie and the three girls head for L.A., running away from home.\n",
      "Knowing the police will be looking for them, the girls ditch Audrey's car and steal one. They look up Tony and Dixie, who find the girls jobs in a seedy dance hall. A remorseful Ruth hires a private detective to find her daughter. The cops come looking, too, investigating the stolen car, which Angie speeds off in, right over a cliff, resulting in her death.\n",
      "Mary's dad relents, letting her join Bob at his army base. Audrey returns home, her mother promising that things there will be better.\n",
      "==================================\n",
      "9: The Big Caper\n",
      "His portion of the loot from a recent heist squandered, minor-league criminal Frank Harper talks his boss, Flood, into a more lucrative project: on the weekend before a Monday payday, break into a San Felipe, California bank, which will be holding a million-dollar payroll for the Marine Base at Camp Pendleton. Flood plans the operation, sending his moll Kay with Frank to become established in the community at San Felipe and to lay the groundwork for the heist.\n",
      "As a means to do this, Frank buys a local gas station and garage, and he and Kayâ€”posing as a married coupleâ€”move into a house nearby. In the following month, Flood recruits a team of specialists, including veteran safecracker Dutch Paulmeyer. By now, Kay is enjoying her masquerade role as \"homemaker\" and tells Frank that she will be breaking off her relationship with Flood. Frank refuses to compromise his friendship with Flood by pursuing Kay, although he is attracted to her. Kay suggests buying a second gas station, and going straight and abandoning the criminal life.\n",
      "Frank eventually agrees to consider a romance with Kay, but only after the heist has been successful. In the following months, Frank and Kay establish a friendly relationship with the Loxleys', of which husband Sam is a banker. The plan is to set off diversionary explosions at the opposite end of town, which will occupy the police and fire departmentsâ€”and likely much of the townâ€”on the night of the planned break-in. However, Flood has hired Zimmer, an explosives expertâ€”who is also an alcoholic and a psychotic pyrophiliacâ€”to engineer the explosions. When Zimmer shows up in San Felipe, he moves in with Frank and Kay.\n",
      "Kay is called to a meeting with Flood, and at Flood's apartment, she encounters some of his other associates: Roy, Flood's gopher and a slightly perverse, self-involved fitness enthusiast; and lookout man Harry, who has brought his slatternly girl friend, Doll, with him. Although Frank warned her against it, Kay tells Flood that she intends to leave after the heist, but insists that she is not involved with anyone else, and that Frank is loyal to him. After Flood and the others show up in San Felipe, Doll demands a cut of the robbery, prompting Flood to order Roy to kill her. Flood then explains to Harry that Doll split after he gave her some money. Flood goes over the final plans for the robbery, in which Zimmer is to create several explosions, including one at the high school as well as one at the electric power plant (thus disabling the bank vault's alarm system).\n",
      "On the night of the robbery, Frank and Kay attend an evening barbecue at the Loxleys', and hear over the radio about the discovery of a young woman's body. The description makes it clear to both of them that it is Doll who has been murdered. Kay decides she wants to leave immediately and asks Frank to join her, but when Frank learns that the Loxleys' son is at a pageant rehearsal at the targeted high school, which was previously expected to be empty that night, he decides to try and stop Zimmer.\n",
      "Confronting Zimmer, Frank is knocked unconscious and Zimmer blows up a paint factory, then heads to the high school. Meanwhile, Flood and the others have entered the store next to the bank and are breaking through the wall to the vault. Frank recovers and rushes to the school, discovering the bomb's timer and disabling it. At the bank, Paulmeyer blows open the vault with nitroglycerin.\n",
      "Later, after Flood returns to Frank's house with cases full of cash, Frank knocks him unconscious and tells Kay to phone the police, intending to return the cash, assuring Kay that, no matter what criminal charges they may face, somehow they will find a way to be together.\n",
      "==================================\n",
      "10: Four Girls in Town\n",
      "For a new film to be shot in New Orleans, after his leading lady drops out, studio head James Manning seeks an unknown actress to be his new star. He finds four leading candidates and employs aspiring director Mike Snowden to conduct their screen tests.\n",
      "The young women come from all walks of life. Kathy Conway is a Minnesota girl who agrees to try acting simply to please her mother. Ina Schiller is from Vienna, where she was recently widowed. Vicki Dauray comes from Paris, where she leaves behind a husband and child. Maria Antonelli is a beauty from Italy whose talent is mainly in alluring men.\n",
      "Kathy takes a personal interest in Mike, but is disappointed when he leaves a party with Ina instead. Handsome actor Tom Grant is interested in Vicki and publicist Ted Larabee promotes her, neither aware that she is a married woman. Ina is introduced to Mike's moody friend Johnny Pryor, a music composer, while Marie is seduced by Spencer Farrington, Jr., a playboy who owns a hotel.\n",
      "Kathy's mother turns up and expects everyone to recognize her daughter as a future star. Kathy fails the screen test, however, but realizes Mike wants to pursue a personal relationship with her. The original actress changes her mind and takes back the film role, but Ina and Maria are offered movie contracts by the studio and marriage contracts with their new suitors. Vicki is not disappointed, realizing that her family comes first.\n",
      "==================================\n"
     ]
    }
   ],
   "source": [
    "sorted_movies = sorted(zip(movies['title'], movies['desc'], distances), key=lambda x: x[2], reverse=True)\n",
    "top_10_similar_movies = sorted_movies[:10]\n",
    "print(\"Top 10 similar movies are:\")\n",
    "\n",
    "for i in range(10):\n",
    "    print(str(i+1)+\": \"+top_10_similar_movies[i][0])\n",
    "    print(top_10_similar_movies[i][1])\n",
    "    print('==================================')"
   ]
  },
  {
   "cell_type": "markdown",
   "id": "a256254c-57e1-45fa-be73-99c7f8fafb5a",
   "metadata": {},
   "source": [
    "As we can see, the TDA has produced some unexpected results. Surely we have hoped that the other movies of the \"Harry Potter\" film series (which are present in the file \"MovieData.csv\") would make the top 10 list.  \n",
    "Nontheless, we can see that the movies from the list do share some similarities to the description of the first installment of the \"Harry Potter\" franchise: there are mentions of school, friends, murder etc.  \n",
    "This does indicate that TDA produces meaningful results. On the other hand, the shortcomings of this particular method can be explained by the relatively small number of points representing each of the descriptions. We can ovecome this problem by simply increasing the number of blocs, but that would produce less valuable TfIdf values. This leads to the conclussion that the algorithm would produce better results if we would have drastically longer descriptions than the ones given, which could be the subject for further research."
   ]
  },
  {
   "cell_type": "code",
   "execution_count": null,
   "id": "a12cf892-c836-4b73-baed-46dd49137d73",
   "metadata": {},
   "outputs": [],
   "source": []
  }
 ],
 "metadata": {
  "kernelspec": {
   "display_name": "Python 3 (ipykernel)",
   "language": "python",
   "name": "python3"
  },
  "language_info": {
   "codemirror_mode": {
    "name": "ipython",
    "version": 3
   },
   "file_extension": ".py",
   "mimetype": "text/x-python",
   "name": "python",
   "nbconvert_exporter": "python",
   "pygments_lexer": "ipython3",
   "version": "3.12.4"
  }
 },
 "nbformat": 4,
 "nbformat_minor": 5
}
